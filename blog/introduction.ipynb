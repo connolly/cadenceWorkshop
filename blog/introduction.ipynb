{
 "cells": [
  {
   "cell_type": "markdown",
   "metadata": {},
   "source": [
    "We will use ipython notebooks to work with the outputs from the cadence simulations. Each post here (including this one) is an ipython notebook. To view a static version of the notebook (with the code and figures embedded) simply click on *\"Read more...\"*. \n",
    "\n",
    "<!-- TEASER_END -->\n",
    "\n",
    "To download the notebook to your machine, click on *Source* (in the top right corner) and save the notebook to your harddrive. To run the notebook (assuming you have followed the [instructions](http://connolly.github.io/cadenceWorkshop/#installation) simply type in the directory where you saved the notebook,\n",
    "\n",
    "    ipython notebook [notebook name.ipynb]\n",
    "and a page will come up in your browser with the notebook\n",
    "\n",
    "shift-return in each cell in the notebook will execute the code."
   ]
  },
  {
   "cell_type": "code",
   "execution_count": 1,
   "metadata": {
    "collapsed": false
   },
   "outputs": [
    {
     "name": "stdout",
     "output_type": "stream",
     "text": [
      "Hello LSST\n"
     ]
    }
   ],
   "source": [
    "print \"Hello LSST\""
   ]
  }
 ],
 "metadata": {
  "kernelspec": {
   "display_name": "Python 2",
   "language": "python",
   "name": "python2"
  },
  "language_info": {
   "codemirror_mode": {
    "name": "ipython",
    "version": 2
   },
   "file_extension": ".py",
   "mimetype": "text/x-python",
   "name": "python",
   "nbconvert_exporter": "python",
   "pygments_lexer": "ipython2",
   "version": "2.7.9"
  }
 },
 "nbformat": 4,
 "nbformat_minor": 0
}
